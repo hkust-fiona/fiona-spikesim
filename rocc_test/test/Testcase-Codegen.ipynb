{
 "cells": [
  {
   "cell_type": "code",
   "execution_count": 1,
   "id": "5da7c746",
   "metadata": {},
   "outputs": [],
   "source": [
    "import numpy as np\n",
    "import torch\n",
    "import torch.nn as nn"
   ]
  },
  {
   "cell_type": "code",
   "execution_count": 2,
   "id": "bcdab094",
   "metadata": {},
   "outputs": [
    {
     "name": "stdout",
     "output_type": "stream",
     "text": [
      "const size_t in_channels = 3, out_channels = 2, kernel_size = 4, stride = 3, padding = 0, batch_size = 1, x_rows = 7, x_cols = 7;\n"
     ]
    }
   ],
   "source": [
    "# parameters for generation\n",
    "\n",
    "in_channels = 3\n",
    "out_channels = 2\n",
    "kernel_size = 4\n",
    "stride = 3\n",
    "padding = 0\n",
    "\n",
    "batch_size = 1\n",
    "x_rows = 7\n",
    "x_cols = 7\n",
    "\n",
    "_params_ = ['in_channels', 'out_channels', 'kernel_size', 'stride', 'padding', 'batch_size', 'x_rows', 'x_cols']\n",
    "print(\"const size_t {};\".format(\", \".join([f\"{k} = {globals()[k]}\" for k in _params_])))"
   ]
  },
  {
   "cell_type": "code",
   "execution_count": 3,
   "id": "2c751c55",
   "metadata": {},
   "outputs": [],
   "source": [
    "k = nn.Conv2d(in_channels, out_channels, kernel_size, stride, bias=False)\n",
    "x = torch.randn(batch_size, in_channels, x_rows, x_cols)"
   ]
  },
  {
   "cell_type": "code",
   "execution_count": 4,
   "id": "77ad9f56",
   "metadata": {},
   "outputs": [],
   "source": [
    "k.weight.data = torch.round(k.weight * 100)\n",
    "x = torch.round(x * 10)"
   ]
  },
  {
   "cell_type": "code",
   "execution_count": 5,
   "id": "c41deb9e",
   "metadata": {},
   "outputs": [
    {
     "name": "stdout",
     "output_type": "stream",
     "text": [
      "// c-form generated testcase:\n",
      "static const elem_t convnet_kernel_weight[2][3][4][4] = {{{{-3, 10, 6, -10}, {11, 6, 9, 3}, {-12, -11, -1, -11}, {-2, 10, 10, 8}}, {{-12, -3, 0, -2}, {8, -14, 13, 3}, {-10, 3, 10, 0}, {-1, -1, -12, -3}}, {{4, -2, -1, 10}, {10, 14, -6, 0}, {-11, -3, -9, -7}, {-2, -1, -3, -2}}}, {{{0, -10, 0, 0}, {4, 11, -8, 9}, {-1, 9, 5, -11}, {-12, -13, -5, -9}}, {{-11, 4, -8, -8}, {9, -12, -5, 1}, {-8, -2, 11, -11}, {3, -10, -13, 1}}, {{-3, 5, -5, -3}, {3, 14, 6, 8}, {2, 8, 5, -6}, {-2, 3, 3, 0}}}};\n",
      "static const elem_t convnet_x[1][3][7][7] = {{{{-2, -13, 4, 0, -25, 4, 5}, {18, 7, -23, 7, 13, -6, 1}, {10, -10, -4, 7, -14, 4, 0}, {24, -19, 5, 8, -12, -11, -3}, {10, -5, -12, -6, -14, -13, 2}, {8, -4, 9, -5, -16, 15, -2}, {-10, -5, -13, -7, -4, -15, 17}}, {{-4, -9, -3, -5, -11, -1, 17}, {0, -1, -10, -4, -9, 16, 5}, {16, -3, 1, 12, 1, 3, 1}, {-4, -8, 0, 14, 19, -17, -3}, {-3, -1, -4, 20, -23, -22, -2}, {-12, -3, -23, -1, -4, 13, 6}, {17, 10, -10, -9, -12, 1, 13}}, {{15, 13, -38, -9, -9, -1, -10}, {-2, 15, 17, 0, 7, 17, 0}, {-7, -16, 4, -12, -3, 7, 5}, {17, -2, -6, 6, -1, -13, 9}, {8, 24, -4, 7, 11, -7, 8}, {2, 3, -10, 10, 1, 1, -18}, {-8, -10, 3, 9, 14, 8, 13}}}};\n"
     ]
    }
   ],
   "source": [
    "def testcase_codegen(mat, name, dtype=None):\n",
    "    if isinstance(mat, nn.Parameter):\n",
    "        mat = mat.detach()\n",
    "    elif isinstance(mat, torch.Tensor):\n",
    "        pass\n",
    "    c_prefix = f\"static const elem_t {name}\"\n",
    "    c_dim = \"\".join([f'[{i}]' for i in mat.shape])\n",
    "    c_data = \" = {};\".format(str((mat.type(dtype) if dtype else mat).tolist()).replace('[', '{').replace(']', '}'))\n",
    "    return c_prefix + c_dim + c_data\n",
    "\n",
    "print(\"// c-form generated testcase:\")\n",
    "print(testcase_codegen(k.weight, 'convnet_kernel_weight', torch.LongTensor))\n",
    "print(testcase_codegen(x, 'convnet_x', torch.LongTensor))"
   ]
  },
  {
   "cell_type": "code",
   "execution_count": 6,
   "id": "fc448957",
   "metadata": {},
   "outputs": [
    {
     "name": "stdout",
     "output_type": "stream",
     "text": [
      "// results of conv2d(kernel=k, input=x):\n",
      "tensor([[[[-268.,   25.],\n",
      "          [  29.,  148.]],\n",
      "\n",
      "         [[ 595.,  501.],\n",
      "          [ 699., 1313.]]]], grad_fn=<ConvolutionBackward0>)\n"
     ]
    }
   ],
   "source": [
    "print(\"// results of conv2d(kernel=k, input=x):\")\n",
    "print(k(x))"
   ]
  }
 ],
 "metadata": {
  "kernelspec": {
   "display_name": "Python 3 (ipykernel)",
   "language": "python",
   "name": "python3"
  },
  "language_info": {
   "codemirror_mode": {
    "name": "ipython",
    "version": 3
   },
   "file_extension": ".py",
   "mimetype": "text/x-python",
   "name": "python",
   "nbconvert_exporter": "python",
   "pygments_lexer": "ipython3",
   "version": "3.9.12"
  }
 },
 "nbformat": 4,
 "nbformat_minor": 5
}
